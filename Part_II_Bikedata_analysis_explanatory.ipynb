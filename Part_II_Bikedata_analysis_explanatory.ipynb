{
 "cells": [
  {
   "cell_type": "markdown",
   "metadata": {
    "slideshow": {
     "slide_type": "slide"
    }
   },
   "source": [
    "# Part II - (Analysis of bike rides in bike sharing system)\n",
    "## by (Navya)"
   ]
  },
  {
   "cell_type": "markdown",
   "metadata": {
    "slideshow": {
     "slide_type": "slide"
    }
   },
   "source": [
    "\n",
    "\n",
    "## Investigation Overview\n",
    "\n",
    "\n",
    "> The main investigation is at what hour,day,month of the year most trips are made and how the duration of the trip is related to other variables like user type,gender etc.\n",
    "\n",
    "\n",
    "\n",
    "\n",
    "## Dataset Overview\n",
    "\n",
    "> This data set includes information about 183412 individual rides made in a bike-sharing system covering the greater San Francisco Bay area.\n",
    "The dataset originally contains 183412 rows and 16 columns. After wrangling and cleaning the dataset,it now contains 174952 rows and 24 columns.The columns include start time,start station and their coordinates,end time,end station and their coordinates,bike id,user type etc."
   ]
  },
  {
   "cell_type": "code",
   "execution_count": 1,
   "metadata": {
    "slideshow": {
     "slide_type": "skip"
    }
   },
   "outputs": [],
   "source": [
    "# import all packages and set plots to be embedded inline\n",
    "import numpy as np\n",
    "import pandas as pd\n",
    "import matplotlib.pyplot as plt\n",
    "import seaborn as sb\n",
    "\n",
    "%matplotlib inline\n",
    "\n",
    "# suppress warnings from final output\n",
    "import warnings\n",
    "warnings.simplefilter(\"ignore\")"
   ]
  },
  {
   "cell_type": "code",
   "execution_count": 2,
   "metadata": {
    "slideshow": {
     "slide_type": "skip"
    }
   },
   "outputs": [],
   "source": [
    "# load in the dataset into a pandas dataframe\n",
    "df_bike=pd.read_csv('bikedata.csv')"
   ]
  },
  {
   "cell_type": "code",
   "execution_count": 3,
   "metadata": {
    "slideshow": {
     "slide_type": "skip"
    }
   },
   "outputs": [],
   "source": [
    "df_bike['start_time']=pd.to_datetime(df_bike['start_time'])"
   ]
  },
  {
   "cell_type": "code",
   "execution_count": 4,
   "metadata": {
    "slideshow": {
     "slide_type": "skip"
    }
   },
   "outputs": [],
   "source": [
    "df_bike['end_time']=pd.to_datetime(df_bike['end_time'])"
   ]
  },
  {
   "cell_type": "code",
   "execution_count": 5,
   "metadata": {
    "slideshow": {
     "slide_type": "skip"
    }
   },
   "outputs": [
    {
     "data": {
      "text/html": [
       "<div>\n",
       "<style scoped>\n",
       "    .dataframe tbody tr th:only-of-type {\n",
       "        vertical-align: middle;\n",
       "    }\n",
       "\n",
       "    .dataframe tbody tr th {\n",
       "        vertical-align: top;\n",
       "    }\n",
       "\n",
       "    .dataframe thead th {\n",
       "        text-align: right;\n",
       "    }\n",
       "</style>\n",
       "<table border=\"1\" class=\"dataframe\">\n",
       "  <thead>\n",
       "    <tr style=\"text-align: right;\">\n",
       "      <th></th>\n",
       "      <th>duration_sec</th>\n",
       "      <th>start_time</th>\n",
       "      <th>end_time</th>\n",
       "      <th>start_station_id</th>\n",
       "      <th>start_station_name</th>\n",
       "      <th>start_station_latitude</th>\n",
       "      <th>start_station_longitude</th>\n",
       "      <th>end_station_id</th>\n",
       "      <th>end_station_name</th>\n",
       "      <th>end_station_latitude</th>\n",
       "      <th>...</th>\n",
       "      <th>member_gender</th>\n",
       "      <th>bike_share_for_all_trip</th>\n",
       "      <th>start_day</th>\n",
       "      <th>start_month</th>\n",
       "      <th>start_year</th>\n",
       "      <th>start_hr</th>\n",
       "      <th>end_day</th>\n",
       "      <th>end_month</th>\n",
       "      <th>end_year</th>\n",
       "      <th>end_hr</th>\n",
       "    </tr>\n",
       "  </thead>\n",
       "  <tbody>\n",
       "    <tr>\n",
       "      <th>0</th>\n",
       "      <td>52185</td>\n",
       "      <td>2019-02-28 17:32:10.145</td>\n",
       "      <td>2019-03-01 08:01:55.975</td>\n",
       "      <td>21.0</td>\n",
       "      <td>Montgomery St BART Station (Market St at 2nd St)</td>\n",
       "      <td>37.789625</td>\n",
       "      <td>-122.400811</td>\n",
       "      <td>13.0</td>\n",
       "      <td>Commercial St at Montgomery St</td>\n",
       "      <td>37.794231</td>\n",
       "      <td>...</td>\n",
       "      <td>Male</td>\n",
       "      <td>No</td>\n",
       "      <td>Thursday</td>\n",
       "      <td>February</td>\n",
       "      <td>2019</td>\n",
       "      <td>17</td>\n",
       "      <td>Friday</td>\n",
       "      <td>March</td>\n",
       "      <td>2019</td>\n",
       "      <td>8</td>\n",
       "    </tr>\n",
       "    <tr>\n",
       "      <th>1</th>\n",
       "      <td>42521</td>\n",
       "      <td>2019-02-28 18:53:21.789</td>\n",
       "      <td>2019-03-01 06:42:03.056</td>\n",
       "      <td>23.0</td>\n",
       "      <td>The Embarcadero at Steuart St</td>\n",
       "      <td>37.791464</td>\n",
       "      <td>-122.391034</td>\n",
       "      <td>81.0</td>\n",
       "      <td>Berry St at 4th St</td>\n",
       "      <td>37.775880</td>\n",
       "      <td>...</td>\n",
       "      <td>NaN</td>\n",
       "      <td>No</td>\n",
       "      <td>Thursday</td>\n",
       "      <td>February</td>\n",
       "      <td>2019</td>\n",
       "      <td>18</td>\n",
       "      <td>Friday</td>\n",
       "      <td>March</td>\n",
       "      <td>2019</td>\n",
       "      <td>6</td>\n",
       "    </tr>\n",
       "    <tr>\n",
       "      <th>2</th>\n",
       "      <td>61854</td>\n",
       "      <td>2019-02-28 12:13:13.218</td>\n",
       "      <td>2019-03-01 05:24:08.146</td>\n",
       "      <td>86.0</td>\n",
       "      <td>Market St at Dolores St</td>\n",
       "      <td>37.769305</td>\n",
       "      <td>-122.426826</td>\n",
       "      <td>3.0</td>\n",
       "      <td>Powell St BART Station (Market St at 4th St)</td>\n",
       "      <td>37.786375</td>\n",
       "      <td>...</td>\n",
       "      <td>Male</td>\n",
       "      <td>No</td>\n",
       "      <td>Thursday</td>\n",
       "      <td>February</td>\n",
       "      <td>2019</td>\n",
       "      <td>12</td>\n",
       "      <td>Friday</td>\n",
       "      <td>March</td>\n",
       "      <td>2019</td>\n",
       "      <td>5</td>\n",
       "    </tr>\n",
       "    <tr>\n",
       "      <th>3</th>\n",
       "      <td>36490</td>\n",
       "      <td>2019-02-28 17:54:26.010</td>\n",
       "      <td>2019-03-01 04:02:36.842</td>\n",
       "      <td>375.0</td>\n",
       "      <td>Grove St at Masonic Ave</td>\n",
       "      <td>37.774836</td>\n",
       "      <td>-122.446546</td>\n",
       "      <td>70.0</td>\n",
       "      <td>Central Ave at Fell St</td>\n",
       "      <td>37.773311</td>\n",
       "      <td>...</td>\n",
       "      <td>Other</td>\n",
       "      <td>No</td>\n",
       "      <td>Thursday</td>\n",
       "      <td>February</td>\n",
       "      <td>2019</td>\n",
       "      <td>17</td>\n",
       "      <td>Friday</td>\n",
       "      <td>March</td>\n",
       "      <td>2019</td>\n",
       "      <td>4</td>\n",
       "    </tr>\n",
       "    <tr>\n",
       "      <th>4</th>\n",
       "      <td>1585</td>\n",
       "      <td>2019-02-28 23:54:18.549</td>\n",
       "      <td>2019-03-01 00:20:44.074</td>\n",
       "      <td>7.0</td>\n",
       "      <td>Frank H Ogawa Plaza</td>\n",
       "      <td>37.804562</td>\n",
       "      <td>-122.271738</td>\n",
       "      <td>222.0</td>\n",
       "      <td>10th Ave at E 15th St</td>\n",
       "      <td>37.792714</td>\n",
       "      <td>...</td>\n",
       "      <td>Male</td>\n",
       "      <td>Yes</td>\n",
       "      <td>Thursday</td>\n",
       "      <td>February</td>\n",
       "      <td>2019</td>\n",
       "      <td>23</td>\n",
       "      <td>Friday</td>\n",
       "      <td>March</td>\n",
       "      <td>2019</td>\n",
       "      <td>0</td>\n",
       "    </tr>\n",
       "    <tr>\n",
       "      <th>5</th>\n",
       "      <td>1793</td>\n",
       "      <td>2019-02-28 23:49:58.632</td>\n",
       "      <td>2019-03-01 00:19:51.760</td>\n",
       "      <td>93.0</td>\n",
       "      <td>4th St at Mission Bay Blvd S</td>\n",
       "      <td>37.770407</td>\n",
       "      <td>-122.391198</td>\n",
       "      <td>323.0</td>\n",
       "      <td>Broadway at Kearny</td>\n",
       "      <td>37.798014</td>\n",
       "      <td>...</td>\n",
       "      <td>Male</td>\n",
       "      <td>No</td>\n",
       "      <td>Thursday</td>\n",
       "      <td>February</td>\n",
       "      <td>2019</td>\n",
       "      <td>23</td>\n",
       "      <td>Friday</td>\n",
       "      <td>March</td>\n",
       "      <td>2019</td>\n",
       "      <td>0</td>\n",
       "    </tr>\n",
       "    <tr>\n",
       "      <th>6</th>\n",
       "      <td>1147</td>\n",
       "      <td>2019-02-28 23:55:35.104</td>\n",
       "      <td>2019-03-01 00:14:42.588</td>\n",
       "      <td>300.0</td>\n",
       "      <td>Palm St at Willow St</td>\n",
       "      <td>37.317298</td>\n",
       "      <td>-121.884995</td>\n",
       "      <td>312.0</td>\n",
       "      <td>San Jose Diridon Station</td>\n",
       "      <td>37.329732</td>\n",
       "      <td>...</td>\n",
       "      <td>Female</td>\n",
       "      <td>No</td>\n",
       "      <td>Thursday</td>\n",
       "      <td>February</td>\n",
       "      <td>2019</td>\n",
       "      <td>23</td>\n",
       "      <td>Friday</td>\n",
       "      <td>March</td>\n",
       "      <td>2019</td>\n",
       "      <td>0</td>\n",
       "    </tr>\n",
       "    <tr>\n",
       "      <th>7</th>\n",
       "      <td>1615</td>\n",
       "      <td>2019-02-28 23:41:06.766</td>\n",
       "      <td>2019-03-01 00:08:02.756</td>\n",
       "      <td>10.0</td>\n",
       "      <td>Washington St at Kearny St</td>\n",
       "      <td>37.795393</td>\n",
       "      <td>-122.404770</td>\n",
       "      <td>127.0</td>\n",
       "      <td>Valencia St at 21st St</td>\n",
       "      <td>37.756708</td>\n",
       "      <td>...</td>\n",
       "      <td>Male</td>\n",
       "      <td>No</td>\n",
       "      <td>Thursday</td>\n",
       "      <td>February</td>\n",
       "      <td>2019</td>\n",
       "      <td>23</td>\n",
       "      <td>Friday</td>\n",
       "      <td>March</td>\n",
       "      <td>2019</td>\n",
       "      <td>0</td>\n",
       "    </tr>\n",
       "    <tr>\n",
       "      <th>8</th>\n",
       "      <td>1570</td>\n",
       "      <td>2019-02-28 23:41:48.790</td>\n",
       "      <td>2019-03-01 00:07:59.715</td>\n",
       "      <td>10.0</td>\n",
       "      <td>Washington St at Kearny St</td>\n",
       "      <td>37.795393</td>\n",
       "      <td>-122.404770</td>\n",
       "      <td>127.0</td>\n",
       "      <td>Valencia St at 21st St</td>\n",
       "      <td>37.756708</td>\n",
       "      <td>...</td>\n",
       "      <td>Other</td>\n",
       "      <td>No</td>\n",
       "      <td>Thursday</td>\n",
       "      <td>February</td>\n",
       "      <td>2019</td>\n",
       "      <td>23</td>\n",
       "      <td>Friday</td>\n",
       "      <td>March</td>\n",
       "      <td>2019</td>\n",
       "      <td>0</td>\n",
       "    </tr>\n",
       "    <tr>\n",
       "      <th>9</th>\n",
       "      <td>1049</td>\n",
       "      <td>2019-02-28 23:49:47.699</td>\n",
       "      <td>2019-03-01 00:07:17.025</td>\n",
       "      <td>19.0</td>\n",
       "      <td>Post St at Kearny St</td>\n",
       "      <td>37.788975</td>\n",
       "      <td>-122.403452</td>\n",
       "      <td>121.0</td>\n",
       "      <td>Mission Playground</td>\n",
       "      <td>37.759210</td>\n",
       "      <td>...</td>\n",
       "      <td>Male</td>\n",
       "      <td>No</td>\n",
       "      <td>Thursday</td>\n",
       "      <td>February</td>\n",
       "      <td>2019</td>\n",
       "      <td>23</td>\n",
       "      <td>Friday</td>\n",
       "      <td>March</td>\n",
       "      <td>2019</td>\n",
       "      <td>0</td>\n",
       "    </tr>\n",
       "  </tbody>\n",
       "</table>\n",
       "<p>10 rows × 24 columns</p>\n",
       "</div>"
      ],
      "text/plain": [
       "   duration_sec              start_time                end_time  \\\n",
       "0         52185 2019-02-28 17:32:10.145 2019-03-01 08:01:55.975   \n",
       "1         42521 2019-02-28 18:53:21.789 2019-03-01 06:42:03.056   \n",
       "2         61854 2019-02-28 12:13:13.218 2019-03-01 05:24:08.146   \n",
       "3         36490 2019-02-28 17:54:26.010 2019-03-01 04:02:36.842   \n",
       "4          1585 2019-02-28 23:54:18.549 2019-03-01 00:20:44.074   \n",
       "5          1793 2019-02-28 23:49:58.632 2019-03-01 00:19:51.760   \n",
       "6          1147 2019-02-28 23:55:35.104 2019-03-01 00:14:42.588   \n",
       "7          1615 2019-02-28 23:41:06.766 2019-03-01 00:08:02.756   \n",
       "8          1570 2019-02-28 23:41:48.790 2019-03-01 00:07:59.715   \n",
       "9          1049 2019-02-28 23:49:47.699 2019-03-01 00:07:17.025   \n",
       "\n",
       "   start_station_id                                start_station_name  \\\n",
       "0              21.0  Montgomery St BART Station (Market St at 2nd St)   \n",
       "1              23.0                     The Embarcadero at Steuart St   \n",
       "2              86.0                           Market St at Dolores St   \n",
       "3             375.0                           Grove St at Masonic Ave   \n",
       "4               7.0                               Frank H Ogawa Plaza   \n",
       "5              93.0                      4th St at Mission Bay Blvd S   \n",
       "6             300.0                              Palm St at Willow St   \n",
       "7              10.0                        Washington St at Kearny St   \n",
       "8              10.0                        Washington St at Kearny St   \n",
       "9              19.0                              Post St at Kearny St   \n",
       "\n",
       "   start_station_latitude  start_station_longitude  end_station_id  \\\n",
       "0               37.789625              -122.400811            13.0   \n",
       "1               37.791464              -122.391034            81.0   \n",
       "2               37.769305              -122.426826             3.0   \n",
       "3               37.774836              -122.446546            70.0   \n",
       "4               37.804562              -122.271738           222.0   \n",
       "5               37.770407              -122.391198           323.0   \n",
       "6               37.317298              -121.884995           312.0   \n",
       "7               37.795393              -122.404770           127.0   \n",
       "8               37.795393              -122.404770           127.0   \n",
       "9               37.788975              -122.403452           121.0   \n",
       "\n",
       "                               end_station_name  end_station_latitude   ...    \\\n",
       "0                Commercial St at Montgomery St             37.794231   ...     \n",
       "1                            Berry St at 4th St             37.775880   ...     \n",
       "2  Powell St BART Station (Market St at 4th St)             37.786375   ...     \n",
       "3                        Central Ave at Fell St             37.773311   ...     \n",
       "4                         10th Ave at E 15th St             37.792714   ...     \n",
       "5                            Broadway at Kearny             37.798014   ...     \n",
       "6                      San Jose Diridon Station             37.329732   ...     \n",
       "7                        Valencia St at 21st St             37.756708   ...     \n",
       "8                        Valencia St at 21st St             37.756708   ...     \n",
       "9                            Mission Playground             37.759210   ...     \n",
       "\n",
       "   member_gender  bike_share_for_all_trip start_day  start_month start_year  \\\n",
       "0           Male                       No  Thursday     February       2019   \n",
       "1            NaN                       No  Thursday     February       2019   \n",
       "2           Male                       No  Thursday     February       2019   \n",
       "3          Other                       No  Thursday     February       2019   \n",
       "4           Male                      Yes  Thursday     February       2019   \n",
       "5           Male                       No  Thursday     February       2019   \n",
       "6         Female                       No  Thursday     February       2019   \n",
       "7           Male                       No  Thursday     February       2019   \n",
       "8          Other                       No  Thursday     February       2019   \n",
       "9           Male                       No  Thursday     February       2019   \n",
       "\n",
       "  start_hr end_day end_month  end_year  end_hr  \n",
       "0       17  Friday     March      2019       8  \n",
       "1       18  Friday     March      2019       6  \n",
       "2       12  Friday     March      2019       5  \n",
       "3       17  Friday     March      2019       4  \n",
       "4       23  Friday     March      2019       0  \n",
       "5       23  Friday     March      2019       0  \n",
       "6       23  Friday     March      2019       0  \n",
       "7       23  Friday     March      2019       0  \n",
       "8       23  Friday     March      2019       0  \n",
       "9       23  Friday     March      2019       0  \n",
       "\n",
       "[10 rows x 24 columns]"
      ]
     },
     "execution_count": 5,
     "metadata": {},
     "output_type": "execute_result"
    }
   ],
   "source": [
    "import datetime as dt\n",
    "df_bike['start_day'] = df_bike['start_time'].dt.day_name()\n",
    "df_bike['start_month'] = df_bike['start_time'].dt.month_name()\n",
    "df_bike['start_year'] = df_bike['start_time'].dt.year\n",
    "df_bike['start_hr'] = df_bike['start_time'].dt.hour\n",
    "df_bike['end_day'] = df_bike['end_time'].dt.day_name()\n",
    "df_bike['end_month'] = df_bike['end_time'].dt.month_name()\n",
    "df_bike['end_year'] = df_bike['end_time'].dt.year\n",
    "df_bike['end_hr'] = df_bike['end_time'].dt.hour\n",
    "\n",
    "df_bike.head(10)"
   ]
  },
  {
   "cell_type": "markdown",
   "metadata": {
    "slideshow": {
     "slide_type": "notes"
    }
   },
   "source": [
    "> Note that the above cells have been set as \"Skip\"-type slides. That means\n",
    "that when the notebook is rendered as http slides, those cells won't show up."
   ]
  },
  {
   "cell_type": "markdown",
   "metadata": {
    "slideshow": {
     "slide_type": "slide"
    }
   },
   "source": [
    "## (Visualization 1)\n",
    "\n",
    "### Ride frequency by hours of day\n",
    "#### Both the plots are multimodal distributions.The 8th,9th,17th and 18th hours have the highest number of trips. The 3rd,4th trips have the least number of trips. \n",
    "### Key Insight: \n",
    "#### This clearly tells there are high number of rides during the opening office hours and closing office hours."
   ]
  },
  {
   "cell_type": "code",
   "execution_count": 6,
   "metadata": {
    "slideshow": {
     "slide_type": "subslide"
    }
   },
   "outputs": [
    {
     "data": {
      "text/plain": [
       "Text(0.5,1,'Frequency of bike rides based on end hour of the day')"
      ]
     },
     "execution_count": 6,
     "metadata": {},
     "output_type": "execute_result"
    },
    {
     "data": {
      "image/png": "[encoded data removed]",
      "text/plain": [
       "<matplotlib.figure.Figure at 0x7f1f9af67d68>"
      ]
     },
     "metadata": {
      "needs_background": "light"
     },
     "output_type": "display_data"
    }
   ],
   "source": [
    "plt.figure(figsize=[20,5])\n",
    "base_color=sb.color_palette()[8]\n",
    "plt.subplot(1,2,1)\n",
    "sb.countplot(data=df_bike,x='start_hr',color=base_color);\n",
    "plt.xlabel('Start hour of the day')\n",
    "plt.title('Frequency of bike rides based on start hour of the day')\n",
    "plt.subplot(1,2,2)\n",
    "sb.countplot(data=df_bike,x='end_hr',color=base_color);\n",
    "plt.xlabel('End hour of the day')\n",
    "plt.title('Frequency of bike rides based on end hour of the day')"
   ]
  },
  {
   "cell_type": "markdown",
   "metadata": {
    "collapsed": true,
    "slideshow": {
     "slide_type": "slide"
    }
   },
   "source": [
    "## (Visualization 2)\n",
    "\n",
    "### Ride frequency and duration of trip based on gender\n",
    "\n",
    "### Key Insight: \n",
    "#### Though the number of higher duration trips is more for male riders but time of duration is higher for women and others."
   ]
  },
  {
   "cell_type": "code",
   "execution_count": 7,
   "metadata": {
    "slideshow": {
     "slide_type": "subslide"
    }
   },
   "outputs": [
    {
     "data": {
      "text/plain": [
       "Text(0.5,1,'Duration of the trip based on gender')"
      ]
     },
     "execution_count": 7,
     "metadata": {},
     "output_type": "execute_result"
    },
    {
     "data": {
      "image/png": "[encoded data removed]",
      "text/plain": [
       "<matplotlib.figure.Figure at 0x7f1f7db46518>"
      ]
     },
     "metadata": {
      "needs_background": "light"
     },
     "output_type": "display_data"
    }
   ],
   "source": [
    "plt.figure(figsize=[20,5])\n",
    "plt.subplot(1,2,1)\n",
    "base_color=sb.color_palette()[3]\n",
    "sb.countplot(data=df_bike,x='member_gender',color=base_color,order=['Male','Female','Other']);\n",
    "plt.xlabel('Gender')\n",
    "plt.title('Frequency of bike rides based on gender')\n",
    "plt.subplot(1,2,2)\n",
    "base_color=sb.color_palette()[2]\n",
    "sb.barplot(data=df_bike,x='member_gender',y='duration_sec',color=base_color);\n",
    "plt.xlabel('Gender')\n",
    "plt.title('Duration of the trip based on gender')"
   ]
  },
  {
   "cell_type": "markdown",
   "metadata": {
    "slideshow": {
     "slide_type": "slide"
    }
   },
   "source": [
    "## (Visualization 3)\n",
    "\n",
    "### Ride frequency and duration of trip based on user type\n",
    "#### Customers travel  longer distances on all days of the week whereas subscribers travel shorter distances.Both the user types travel more distances on weekends than on week days. However, number of trips varies exactly opposite.\n",
    "### Key Insight: \n",
    "#### Customers travel longer distances than subscribers though the number of trips are only 10% of subscribers."
   ]
  },
  {
   "cell_type": "code",
   "execution_count": 8,
   "metadata": {
    "slideshow": {
     "slide_type": "subslide"
    }
   },
   "outputs": [
    {
     "data": {
      "image/png": "[encoded data removed]",
      "text/plain": [
       "<matplotlib.figure.Figure at 0x7f1f7da75358>"
      ]
     },
     "metadata": {
      "needs_background": "light"
     },
     "output_type": "display_data"
    }
   ],
   "source": [
    "plt.figure(figsize=[20,5])\n",
    "plt.subplot(1,2,1)\n",
    "days_order=['Monday','Tuesday','Wednesday','Thursday','Friday','Saturday','Sunday']\n",
    "sb.pointplot(data=df_bike,x='start_day',y='duration_sec',hue='user_type',palette='Blues',order=days_order,line_styles=\" \",dodge=True);\n",
    "plt.xlabel('Start day')\n",
    "plt.title('Trip duration based on user type across all start days of week ')\n",
    "plt.subplot(1,2,2)\n",
    "base_color=sb.color_palette()[3]\n",
    "ax=sb.countplot(data=df_bike,x='user_type',color=base_color,order=df_bike.user_type.value_counts().index);\n",
    "plt.xlabel('Type of user')\n",
    "plt.title('Frequency of bike rides based on user type')\n",
    "for p in ax.patches:\n",
    "    percentage = '{:.3f}%'.format(100 * p.get_height()/174952)\n",
    "    x = p.get_x() + p.get_width()/2\n",
    "    y = p.get_height()\n",
    "    ax.annotate(percentage,(x,y),ha='center')\n",
    "plt.show()"
   ]
  },
  {
   "cell_type": "markdown",
   "metadata": {
    "slideshow": {
     "slide_type": "skip"
    }
   },
   "source": [
    "### Generate Slideshow\n",
    "Once you're ready to generate your slideshow, use the `jupyter nbconvert` command to generate the HTML slide show.  "
   ]
  },
  {
   "cell_type": "code",
   "execution_count": 9,
   "metadata": {
    "slideshow": {
     "slide_type": "skip"
    }
   },
   "outputs": [
    {
     "name": "stdout",
     "output_type": "stream",
     "text": [
      "[NbConvertApp] Converting notebook Part_II_Bikedata_analysis_explanatory.ipynb to slides\n",
      "[NbConvertApp] Writing 375967 bytes to Part_II_Bikedata_analysis_explanatory.slides.html\n",
      "[NbConvertApp] Redirecting reveal.js requests to https://cdnjs.cloudflare.com/ajax/libs/reveal.js/3.5.0\n",
      "Traceback (most recent call last):\n",
      "  File \"/opt/conda/bin/jupyter-nbconvert\", line 11, in <module>\n",
      "    sys.exit(main())\n",
      "  File \"/opt/conda/lib/python3.6/site-packages/jupyter_core/application.py\", line 266, in launch_instance\n",
      "    return super(JupyterApp, cls).launch_instance(argv=argv, **kwargs)\n",
      "  File \"/opt/conda/lib/python3.6/site-packages/traitlets/config/application.py\", line 658, in launch_instance\n",
      "    app.start()\n",
      "  File \"/opt/conda/lib/python3.6/site-packages/nbconvert/nbconvertapp.py\", line 337, in start\n",
      "    self.convert_notebooks()\n",
      "  File \"/opt/conda/lib/python3.6/site-packages/nbconvert/nbconvertapp.py\", line 507, in convert_notebooks\n",
      "    self.convert_single_notebook(notebook_filename)\n",
      "  File \"/opt/conda/lib/python3.6/site-packages/nbconvert/nbconvertapp.py\", line 480, in convert_single_notebook\n",
      "    self.postprocess_single_notebook(write_results)\n",
      "  File \"/opt/conda/lib/python3.6/site-packages/nbconvert/nbconvertapp.py\", line 452, in postprocess_single_notebook\n",
      "    self.postprocessor(write_results)\n",
      "  File \"/opt/conda/lib/python3.6/site-packages/nbconvert/postprocessors/base.py\", line 28, in __call__\n",
      "    self.postprocess(input)\n",
      "  File \"/opt/conda/lib/python3.6/site-packages/nbconvert/postprocessors/serve.py\", line 95, in postprocess\n",
      "    http_server.listen(self.port, address=self.ip)\n",
      "  File \"/opt/conda/lib/python3.6/site-packages/tornado/tcpserver.py\", line 142, in listen\n",
      "    sockets = bind_sockets(port, address=address)\n",
      "  File \"/opt/conda/lib/python3.6/site-packages/tornado/netutil.py\", line 197, in bind_sockets\n",
      "    sock.bind(sockaddr)\n",
      "OSError: [Errno 98] Address already in use\n"
     ]
    }
   ],
   "source": [
    "# Use this command if you are running this file in local\n",
    "!jupyter nbconvert Part_II_Bikedata_analysis_explanatory.ipynb --to slides --post serve --no-input --no-prompt"
   ]
  },
  {
   "cell_type": "markdown",
   "metadata": {
    "slideshow": {
     "slide_type": "skip"
    }
   },
   "source": [
    "> In the classroom workspace, the generated HTML slideshow will be placed in the home folder. \n",
    "\n",
    "> In local machines, the command above should open a tab in your web browser where you can scroll through your presentation. Sub-slides can be accessed by pressing 'down' when viewing its parent slide. Make sure you remove all of the quote-formatted guide notes like this one before you finish your presentation! At last, you can stop the Kernel. "
   ]
  },
  {
   "cell_type": "markdown",
   "metadata": {
    "slideshow": {
     "slide_type": "skip"
    }
   },
   "source": [
    "### Submission\n",
    "If you are using classroom workspace, you can choose from the following two ways of submission:\n",
    "\n",
    "1. **Submit from the workspace**. Make sure you have removed the example project from the /home/workspace directory. You must submit the following files:\n",
    "   - Part_I_notebook.ipynb\n",
    "   - Part_I_notebook.html or pdf\n",
    "   - Part_II_notebook.ipynb\n",
    "   - Part_I_slides.html\n",
    "   - README.md\n",
    "   - dataset (optional)\n",
    "\n",
    "\n",
    "2. **Submit a zip file on the last page of this project lesson**. In this case, open the Jupyter terminal and run the command below to generate a ZIP file. \n",
    "```bash\n",
    "zip -r my_project.zip .\n",
    "```\n",
    "The command abobve will ZIP every file present in your /home/workspace directory. Next, you can download the zip to your local, and follow the instructions on the last page of this project lesson.\n"
   ]
  },
  {
   "cell_type": "code",
   "execution_count": null,
   "metadata": {},
   "outputs": [],
   "source": []
  }
 ],
 "metadata": {
  "celltoolbar": "Slideshow",
  "kernelspec": {
   "display_name": "Python 3",
   "language": "python",
   "name": "python3"
  },
  "language_info": {
   "codemirror_mode": {
    "name": "ipython",
    "version": 3
   },
   "file_extension": ".py",
   "mimetype": "text/x-python",
   "name": "python",
   "nbconvert_exporter": "python",
   "pygments_lexer": "ipython3",
   "version": "3.6.3"
  }
 },
 "nbformat": 4,
 "nbformat_minor": 2
}
